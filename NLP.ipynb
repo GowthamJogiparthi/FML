{
  "nbformat": 4,
  "nbformat_minor": 0,
  "metadata": {
    "colab": {
      "provenance": [],
      "authorship_tag": "ABX9TyN2u3pd3PEh9r7fDRySZm2u",
      "include_colab_link": true
    },
    "kernelspec": {
      "name": "python3",
      "display_name": "Python 3"
    },
    "language_info": {
      "name": "python"
    }
  },
  "cells": [
    {
      "cell_type": "markdown",
      "metadata": {
        "id": "view-in-github",
        "colab_type": "text"
      },
      "source": [
        "<a href=\"https://colab.research.google.com/github/GowthamJogiparthi/FML/blob/main/NLP.ipynb\" target=\"_parent\"><img src=\"https://colab.research.google.com/assets/colab-badge.svg\" alt=\"Open In Colab\"/></a>"
      ]
    },
    {
      "cell_type": "code",
      "execution_count": 1,
      "metadata": {
        "colab": {
          "base_uri": "https://localhost:8080/"
        },
        "id": "N1dYyL9nSA1J",
        "outputId": "24071bf7-cf5d-4205-91bd-ff110b0186a5"
      },
      "outputs": [
        {
          "output_type": "stream",
          "name": "stdout",
          "text": [
            "['The', 'Good', 'Eggs', 'display', 'virtues', 'within', 'their', 'community,', 'but', 'what', 'are', 'virtues?', 'Virtues', 'are', 'positive', 'traits,', 'such', 'as', 'understanding,', 'forgiveness,', 'gratitude,', 'generosity,', 'cooperation,', 'love,', 'acceptance,', 'respect,', 'responsibility,', 'honesty,', 'confidence,', 'and', 'manners.', 'They', 'also', 'learn', 'about', 'diversity', 'as', 'they', 'travel', 'to', '10', 'countries,', 'and', 'come', 'back', 'to', 'their', 'hometown', 'to', 'learn', 'the', 'importance', 'of', 'community', 'service!', 'The', 'Good', 'Eggs', 'help', 'each', 'other', 'and', 'make', 'a', 'positive', 'difference', 'in', 'their', 'lives', 'and', 'the', 'lives', 'of', 'others.']\n",
            "No of tokens: 74\n"
          ]
        }
      ],
      "source": [
        "text='''The Good Eggs display virtues within their community, but what are virtues? Virtues are positive traits, such as understanding, forgiveness, gratitude, generosity, cooperation, love, acceptance, respect, responsibility, honesty, confidence, and manners. They also learn about diversity as they travel to 10 countries, and come back to their hometown to learn the importance of community service! The Good Eggs help each other and make a positive difference in their lives and the lives of others.'''\n",
        "tokens=text.split()\n",
        "print(tokens)\n",
        "print(\"No of tokens:\",len(tokens))"
      ]
    },
    {
      "cell_type": "code",
      "source": [
        "text='''The Good Eggs display virtues within their community, but what are virtues? Virtues are positive traits, such as understanding, forgiveness, gratitude, generosity, cooperation, love, acceptance, respect, responsibility, honesty, confidence, and manners. They also learn about diversity as they travel to 10 countries, and come back to their hometown to learn the importance of community service! The Good Eggs help each other and make a positive difference in their lives and the lives of others.'''\n",
        "sentences=text.split('.')\n",
        "print(sentences)\n",
        "print(len(sentences))"
      ],
      "metadata": {
        "colab": {
          "base_uri": "https://localhost:8080/"
        },
        "id": "DwSogwlyTSaa",
        "outputId": "2fce0bd1-4d19-4d6d-b8f8-d98ed0772a04"
      },
      "execution_count": 3,
      "outputs": [
        {
          "output_type": "stream",
          "name": "stdout",
          "text": [
            "['The Good Eggs display virtues within their community, but what are virtues? Virtues are positive traits, such as understanding, forgiveness, gratitude, generosity, cooperation, love, acceptance, respect, responsibility, honesty, confidence, and manners', ' They also learn about diversity as they travel to 10 countries, and come back to their hometown to learn the importance of community service! The Good Eggs help each other and make a positive difference in their lives and the lives of others', '']\n",
            "3\n"
          ]
        }
      ]
    },
    {
      "cell_type": "code",
      "source": [
        "import re"
      ],
      "metadata": {
        "id": "D68--HV7Tjwm"
      },
      "execution_count": 4,
      "outputs": []
    },
    {
      "cell_type": "code",
      "source": [
        "tokens = re.findall(\"[\\w']+\", text)\n",
        "print(tokens)\n",
        "print(len(tokens))"
      ],
      "metadata": {
        "colab": {
          "base_uri": "https://localhost:8080/"
        },
        "id": "3_wL3IVndd0v",
        "outputId": "ac262539-5a29-44f6-d7b2-ae3bb6fa8fba"
      },
      "execution_count": 5,
      "outputs": [
        {
          "output_type": "stream",
          "name": "stdout",
          "text": [
            "['The', 'Good', 'Eggs', 'display', 'virtues', 'within', 'their', 'community', 'but', 'what', 'are', 'virtues', 'Virtues', 'are', 'positive', 'traits', 'such', 'as', 'understanding', 'forgiveness', 'gratitude', 'generosity', 'cooperation', 'love', 'acceptance', 'respect', 'responsibility', 'honesty', 'confidence', 'and', 'manners', 'They', 'also', 'learn', 'about', 'diversity', 'as', 'they', 'travel', 'to', '10', 'countries', 'and', 'come', 'back', 'to', 'their', 'hometown', 'to', 'learn', 'the', 'importance', 'of', 'community', 'service', 'The', 'Good', 'Eggs', 'help', 'each', 'other', 'and', 'make', 'a', 'positive', 'difference', 'in', 'their', 'lives', 'and', 'the', 'lives', 'of', 'others']\n",
            "74\n"
          ]
        }
      ]
    },
    {
      "cell_type": "code",
      "source": [
        "sentences = re.compile('[.?!] ').split(text)\n",
        "print(sentences)\n",
        "print(\"No.of sentences : \", len(sentences))"
      ],
      "metadata": {
        "colab": {
          "base_uri": "https://localhost:8080/"
        },
        "id": "MwE9nqtDdy_p",
        "outputId": "47f81f52-4e1b-4122-f77c-4c966a4d84d3"
      },
      "execution_count": 6,
      "outputs": [
        {
          "output_type": "stream",
          "name": "stdout",
          "text": [
            "['The Good Eggs display virtues within their community, but what are virtues', 'Virtues are positive traits, such as understanding, forgiveness, gratitude, generosity, cooperation, love, acceptance, respect, responsibility, honesty, confidence, and manners', 'They also learn about diversity as they travel to 10 countries, and come back to their hometown to learn the importance of community service', 'The Good Eggs help each other and make a positive difference in their lives and the lives of others.']\n",
            "No.of sentences :  4\n"
          ]
        }
      ]
    },
    {
      "cell_type": "code",
      "source": [
        "!pip install --user -U nltk\n"
      ],
      "metadata": {
        "colab": {
          "base_uri": "https://localhost:8080/"
        },
        "id": "0VuPNASKd-Cy",
        "outputId": "2b546139-e072-4d96-9821-164d62378124"
      },
      "execution_count": 7,
      "outputs": [
        {
          "output_type": "stream",
          "name": "stdout",
          "text": [
            "Looking in indexes: https://pypi.org/simple, https://us-python.pkg.dev/colab-wheels/public/simple/\n",
            "Requirement already satisfied: nltk in /usr/local/lib/python3.10/dist-packages (3.8.1)\n",
            "Requirement already satisfied: click in /usr/local/lib/python3.10/dist-packages (from nltk) (8.1.3)\n",
            "Requirement already satisfied: joblib in /usr/local/lib/python3.10/dist-packages (from nltk) (1.2.0)\n",
            "Requirement already satisfied: regex>=2021.8.3 in /usr/local/lib/python3.10/dist-packages (from nltk) (2022.10.31)\n",
            "Requirement already satisfied: tqdm in /usr/local/lib/python3.10/dist-packages (from nltk) (4.65.0)\n"
          ]
        }
      ]
    },
    {
      "cell_type": "code",
      "source": [
        "import nltk\n",
        "nltk.download('punkt')"
      ],
      "metadata": {
        "colab": {
          "base_uri": "https://localhost:8080/"
        },
        "id": "hTuSSITUeKLU",
        "outputId": "559bbf8d-a9c8-4075-b171-62104ba830ac"
      },
      "execution_count": 8,
      "outputs": [
        {
          "output_type": "stream",
          "name": "stderr",
          "text": [
            "[nltk_data] Downloading package punkt to /root/nltk_data...\n",
            "[nltk_data]   Unzipping tokenizers/punkt.zip.\n"
          ]
        },
        {
          "output_type": "execute_result",
          "data": {
            "text/plain": [
              "True"
            ]
          },
          "metadata": {},
          "execution_count": 8
        }
      ]
    },
    {
      "cell_type": "code",
      "source": [
        "from nltk.tokenize import word_tokenize\n",
        "tokens=word_tokenize(text)\n",
        "print(tokens)\n",
        "print(len(tokens))"
      ],
      "metadata": {
        "colab": {
          "base_uri": "https://localhost:8080/"
        },
        "id": "LahcBLgaeaxG",
        "outputId": "f3e64365-5313-4f35-8a92-2e6074b4f4d7"
      },
      "execution_count": 9,
      "outputs": [
        {
          "output_type": "stream",
          "name": "stdout",
          "text": [
            "['The', 'Good', 'Eggs', 'display', 'virtues', 'within', 'their', 'community', ',', 'but', 'what', 'are', 'virtues', '?', 'Virtues', 'are', 'positive', 'traits', ',', 'such', 'as', 'understanding', ',', 'forgiveness', ',', 'gratitude', ',', 'generosity', ',', 'cooperation', ',', 'love', ',', 'acceptance', ',', 'respect', ',', 'responsibility', ',', 'honesty', ',', 'confidence', ',', 'and', 'manners', '.', 'They', 'also', 'learn', 'about', 'diversity', 'as', 'they', 'travel', 'to', '10', 'countries', ',', 'and', 'come', 'back', 'to', 'their', 'hometown', 'to', 'learn', 'the', 'importance', 'of', 'community', 'service', '!', 'The', 'Good', 'Eggs', 'help', 'each', 'other', 'and', 'make', 'a', 'positive', 'difference', 'in', 'their', 'lives', 'and', 'the', 'lives', 'of', 'others', '.']\n",
            "92\n"
          ]
        }
      ]
    },
    {
      "cell_type": "code",
      "source": [
        "from nltk.tokenize import sent_tokenize\n",
        "sentences = sent_tokenize(text)\n",
        "print(sentences)\n",
        "print(\"No.of sentences : \", len(sentences))"
      ],
      "metadata": {
        "colab": {
          "base_uri": "https://localhost:8080/"
        },
        "id": "6xHiPpt2e1Pq",
        "outputId": "1cf2d681-fb5e-4bae-c73e-d0d5042a35dd"
      },
      "execution_count": 10,
      "outputs": [
        {
          "output_type": "stream",
          "name": "stdout",
          "text": [
            "['The Good Eggs display virtues within their community, but what are virtues?', 'Virtues are positive traits, such as understanding, forgiveness, gratitude, generosity, cooperation, love, acceptance, respect, responsibility, honesty, confidence, and manners.', 'They also learn about diversity as they travel to 10 countries, and come back to their hometown to learn the importance of community service!', 'The Good Eggs help each other and make a positive difference in their lives and the lives of others.']\n",
            "No.of sentences :  4\n"
          ]
        }
      ]
    },
    {
      "cell_type": "code",
      "source": [
        "from nltk.stem import PorterStemmer\n"
      ],
      "metadata": {
        "id": "QfskEWHZe32l"
      },
      "execution_count": 11,
      "outputs": []
    },
    {
      "cell_type": "code",
      "source": [
        "porter=PorterStemmer()\n",
        "print(porter.stem(\"cats\"))\n",
        "print(porter.stem(\"troubling\"))"
      ],
      "metadata": {
        "colab": {
          "base_uri": "https://localhost:8080/"
        },
        "id": "3aaxxslkfDw1",
        "outputId": "b46f55f3-1a65-4d7b-9712-c3c74036bca0"
      },
      "execution_count": 12,
      "outputs": [
        {
          "output_type": "stream",
          "name": "stdout",
          "text": [
            "cat\n",
            "troubl\n"
          ]
        }
      ]
    },
    {
      "cell_type": "code",
      "source": [],
      "metadata": {
        "id": "nbMHxz6KfwqA"
      },
      "execution_count": null,
      "outputs": []
    }
  ]
}